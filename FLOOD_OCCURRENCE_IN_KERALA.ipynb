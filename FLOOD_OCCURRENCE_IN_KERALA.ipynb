{
 "cells": [
  {
   "cell_type": "markdown",
   "id": "1c78e7c1",
   "metadata": {},
   "source": [
    "<font color='darkgreen' size='5' face='verdana'>**Case Study Analysis: \"Prediction and Probabilistic Analysis of Flood Occurrence in Kerala\"**</font>\n",
    "\n"
   ]
  },
  {
   "cell_type": "markdown",
   "id": "a5cc3a34",
   "metadata": {},
   "source": [
    "<font color='BLUE' size='5'><b>PROBLEM STATEMENT:</b></font>\n",
    "\n",
    "<font color='navy'>The challenge of predicting floods using historical rainfall data.</font>\n",
    "\n",
    "<font color='navy'>The importance of this task for disaster management and mitigation.</font>\n"
   ]
  },
  {
   "cell_type": "markdown",
   "id": "c2c926b0",
   "metadata": {},
   "source": [
    "Flooding is a natural disaster that poses significant challenges to communities and regions worldwide. The ability to predict and anticipate floods is crucial for effective disaster management and mitigation efforts.Historical rainfall data serves as a valuable resource for developing predictive models that can help identify areas at risk of flooding. "
   ]
  },
  {
   "cell_type": "markdown",
   "id": "ece5eadb",
   "metadata": {},
   "source": [
    "<font color='blue' size='5'><b>TASK:</b></font>\n",
    "- Goal: Predict whether a flood will occur based on rainfall data.\n",
    "- Keeping different conditions in rainfall scenarios (conditional probability) understand the rate of flooding.\n",
    "- Objective: Develop a predictive model using machine learning techniques.\n",
    "- Evaluation Metric: Specify the evaluation metric (e.g., accuracy, precision, recall, F1-score) for assessing model performance."
   ]
  },
  {
   "cell_type": "markdown",
   "id": "2ef9c5ff",
   "metadata": {},
   "source": [
    "<font color='green' size='5' face='verdana'>**IMPORTING REQUIRED LIBRARIES**</font>"
   ]
  },
  {
   "cell_type": "code",
   "execution_count": 1,
   "id": "513e5b6c",
   "metadata": {},
   "outputs": [],
   "source": [
    "import pandas as pd  # For data manipulation and analysis\n",
    "import numpy as np  # For numerical operations"
   ]
  },
  {
   "cell_type": "code",
   "execution_count": null,
   "id": "0ed152e4",
   "metadata": {},
   "outputs": [],
   "source": [
    "import matplotlib.pyplot as plt  # For creating visualizations\n",
    "import seaborn as sns  # For statistical data visualization"
   ]
  },
  {
   "cell_type": "code",
   "execution_count": null,
   "id": "aa9feeaf",
   "metadata": {},
   "outputs": [],
   "source": [
    "import warnings\n",
    "warnings.filterwarnings(\"ignore\") # Ignore warnings "
   ]
  },
  {
   "cell_type": "markdown",
   "id": "60653a71",
   "metadata": {},
   "source": [
    "###### from scikit-learn "
   ]
  },
  {
   "cell_type": "code",
   "execution_count": null,
   "id": "ff2524a8",
   "metadata": {},
   "outputs": [],
   "source": [
    "from sklearn.preprocessing import LabelEncoder  # For encoding categorical variables"
   ]
  },
  {
   "cell_type": "code",
   "execution_count": null,
   "id": "bd7be21b",
   "metadata": {},
   "outputs": [],
   "source": [
    "from sklearn.model_selection import train_test_split  # For splitting data into training and testing sets"
   ]
  },
  {
   "cell_type": "code",
   "execution_count": null,
   "id": "bb1ca187",
   "metadata": {},
   "outputs": [],
   "source": [
    "from sklearn.preprocessing import StandardScaler  # For standardizing features"
   ]
  },
  {
   "cell_type": "code",
   "execution_count": null,
   "id": "32b187c6",
   "metadata": {},
   "outputs": [],
   "source": [
    "from sklearn.model_selection import GridSearchCV  # For hyperparameter tuning using grid search"
   ]
  },
  {
   "cell_type": "code",
   "execution_count": null,
   "id": "a27edd6e",
   "metadata": {},
   "outputs": [],
   "source": [
    "from sklearn.linear_model import LogisticRegression  # Logistic Regression classifier"
   ]
  },
  {
   "cell_type": "code",
   "execution_count": null,
   "id": "f030f319",
   "metadata": {},
   "outputs": [],
   "source": [
    "from sklearn.neighbors import KNeighborsClassifier  # K-Nearest Neighbors classifier"
   ]
  },
  {
   "cell_type": "code",
   "execution_count": null,
   "id": "8d251be1",
   "metadata": {},
   "outputs": [],
   "source": [
    "from sklearn.svm import SVC  # Support Vector Machine classifier"
   ]
  },
  {
   "cell_type": "code",
   "execution_count": null,
   "id": "b9d46325",
   "metadata": {},
   "outputs": [],
   "source": [
    "from sklearn.ensemble import RandomForestClassifier  # Random Forest classifier"
   ]
  },
  {
   "cell_type": "code",
   "execution_count": null,
   "id": "92d0e324",
   "metadata": {},
   "outputs": [],
   "source": [
    "from sklearn.metrics import accuracy_score, precision_score, recall_score, f1_score, confusion_matrix\n",
    "# For evaluating "
   ]
  },
  {
   "cell_type": "code",
   "execution_count": null,
   "id": "099593cc",
   "metadata": {},
   "outputs": [],
   "source": [
    "from sklearn.tree import DecisionTreeClassifier # Decision Tree Classifier"
   ]
  },
  {
   "cell_type": "code",
   "execution_count": null,
   "id": "672f447a",
   "metadata": {},
   "outputs": [],
   "source": []
  },
  {
   "cell_type": "markdown",
   "id": "a2657f5f",
   "metadata": {},
   "source": [
    "<font color='green' size='5' face='verdana'>**LOAD THE DATASET**</font>"
   ]
  },
  {
   "cell_type": "code",
   "execution_count": null,
   "id": "2b6e61e7",
   "metadata": {},
   "outputs": [],
   "source": [
    "flood = pd.read_csv(\"kerala.csv.xls\")"
   ]
  },
  {
   "cell_type": "code",
   "execution_count": null,
   "id": "dc2e7431",
   "metadata": {},
   "outputs": [],
   "source": [
    "flood"
   ]
  },
  {
   "cell_type": "markdown",
   "id": "887952a3",
   "metadata": {},
   "source": [
    "<font color='green' size='5' face='verdana'>**MAKING A COPY OF THE DATASET**</font>"
   ]
  },
  {
   "cell_type": "code",
   "execution_count": null,
   "id": "71ca8710",
   "metadata": {},
   "outputs": [],
   "source": [
    "flood_copy = flood.copy()\n",
    "flood_copy"
   ]
  },
  {
   "cell_type": "code",
   "execution_count": null,
   "id": "7777d4f9",
   "metadata": {},
   "outputs": [],
   "source": [
    "# save data frame to new df for dashboard creating\n",
    "flood.to_csv('KERALA_FLOOD.csv', index=False)"
   ]
  },
  {
   "cell_type": "markdown",
   "id": "159d57c9",
   "metadata": {},
   "source": [
    "<font color='green' size='5' face='verdana'>**ABOUT THE DATASET**</font>"
   ]
  },
  {
   "cell_type": "markdown",
   "id": "57022dd9",
   "metadata": {},
   "source": [
    "<font color='navy' size='3'>**The dataset contains the monthly rainfall data from years 1901 to 2018 for the Indian state of Kerala. Kerala is one of the few states which are usually badly hit by monsoons every year.**</font>"
   ]
  },
  {
   "cell_type": "code",
   "execution_count": null,
   "id": "583cfc6c",
   "metadata": {},
   "outputs": [],
   "source": [
    "print(\"THE NUMBER OF ROWS AND COLUMNS: \",flood.shape)\n",
    "print(\"THE TOTAL NUMBER OF ELEMENTS IN THE DATASET: \",flood.size)"
   ]
  },
  {
   "cell_type": "markdown",
   "id": "3d68fba5",
   "metadata": {},
   "source": [
    "    Takeaway:\n",
    "       - there is 1888 elements in the dataset with 118 rows and 16 columns"
   ]
  },
  {
   "cell_type": "markdown",
   "id": "8da2be90",
   "metadata": {},
   "source": [
    "<font color='green' size='5' face='verdana'>**UNDERSTANDING THE FEATURES**</font>"
   ]
  },
  {
   "cell_type": "code",
   "execution_count": null,
   "id": "81d47911",
   "metadata": {},
   "outputs": [],
   "source": [
    "print(\"COLUMN NAMES : \\n \",flood.columns)"
   ]
  },
  {
   "cell_type": "markdown",
   "id": "f2928194",
   "metadata": {},
   "source": [
    "**The data contains 32561 instances with the following attributes:**\n",
    "- 'SUBDIVISION' : Represents the geographical subdivision associated with the data.\n",
    "- 'YEAR' : Represents the calendar year for which the data is recorded.\n",
    "- 'JAN', 'FEB', 'MAR', 'APR', 'MAY', 'JUN', 'JUL','AUG', 'SEP', 'OCT', 'NOV', 'DEC' : Monthly rainfall data for each respective month.\n",
    "- ' ANNUAL RAINFALL' : Represents the total annual rainfall for the given year.\n",
    "- 'FLOODS' : Binary variable indicating the occurrence of floods.\n",
    "\n",
    "                        \"YES\" indicates that floods occurred.\n",
    "                        \"NO\" indicates the absence of floods.                             "
   ]
  },
  {
   "cell_type": "markdown",
   "id": "c82d3195",
   "metadata": {},
   "source": [
    "<font color='green' size='5' face='verdana'>**RENAMING THE COLUMN**</font>"
   ]
  },
  {
   "cell_type": "code",
   "execution_count": null,
   "id": "5f25fb54",
   "metadata": {},
   "outputs": [],
   "source": [
    "flood.rename(columns={\" ANNUAL RAINFALL\":\"ANNUAL RAINFALL\"},inplace=True)"
   ]
  },
  {
   "cell_type": "code",
   "execution_count": null,
   "id": "a1e550ff",
   "metadata": {},
   "outputs": [],
   "source": [
    "flood.sample(3)"
   ]
  },
  {
   "cell_type": "markdown",
   "id": "0415e41f",
   "metadata": {},
   "source": [
    "<font color='green' size='5' face='verdana'>**HAVE A LOOK AT THE DATASET**</font>"
   ]
  },
  {
   "cell_type": "code",
   "execution_count": null,
   "id": "126cce02",
   "metadata": {},
   "outputs": [],
   "source": [
    "flood.head()"
   ]
  },
  {
   "cell_type": "code",
   "execution_count": null,
   "id": "36b98fdb",
   "metadata": {},
   "outputs": [],
   "source": [
    "flood.tail()"
   ]
  },
  {
   "cell_type": "code",
   "execution_count": null,
   "id": "c9033e33",
   "metadata": {},
   "outputs": [],
   "source": [
    "flood.dtypes"
   ]
  },
  {
   "cell_type": "markdown",
   "id": "0cf2474f",
   "metadata": {},
   "source": [
    "- rainfall over different months and annual is recorded in float64,subdivision and flood in object and year in int64"
   ]
  },
  {
   "cell_type": "markdown",
   "id": "d8e3d97b",
   "metadata": {},
   "source": [
    "<font color='green' size='5' face='verdana'>**BASIC CLEANING**</font>"
   ]
  },
  {
   "cell_type": "markdown",
   "id": "0dc3b39a",
   "metadata": {},
   "source": [
    "<font color='green' size='3'>**CHECKING FOR MISSING VALUES AND DUPLICATES**</font>"
   ]
  },
  {
   "cell_type": "code",
   "execution_count": null,
   "id": "3ab90679",
   "metadata": {},
   "outputs": [],
   "source": [
    "print(\"THE NUMBER OF MISSING VALUES : \\n  \",flood.isna().sum())"
   ]
  },
  {
   "cell_type": "code",
   "execution_count": null,
   "id": "69f85c3f",
   "metadata": {},
   "outputs": [],
   "source": [
    "print(\"THE NUMBER OF DUPLICATES : \\n\",flood.duplicated().sum())"
   ]
  },
  {
   "cell_type": "markdown",
   "id": "fc83d001",
   "metadata": {},
   "source": [
    "<font color='LIGHTBLUE' size='5' face='verdana'>**TAKE AWAY:**</font>\n",
    "\n",
    "    - The dataset is cleaned,that is it doesn't contain missing values and duplicates."
   ]
  },
  {
   "cell_type": "markdown",
   "id": "20893a9e",
   "metadata": {},
   "source": [
    "<font color='green' size='5' face='verdana'>**CHECKING UNIQUE VALUES OF EACH COLUMN**</font>"
   ]
  },
  {
   "cell_type": "markdown",
   "id": "a93e493c",
   "metadata": {},
   "source": [
    "<font color='navy' size='4'>**CHECKS WHETHER THE DATASET CONTAINS ANY SPECIAL CHARACTERS?**</font>"
   ]
  },
  {
   "cell_type": "code",
   "execution_count": null,
   "id": "c9818202",
   "metadata": {},
   "outputs": [],
   "source": [
    "cols=flood.columns"
   ]
  },
  {
   "cell_type": "code",
   "execution_count": null,
   "id": "3f248e0c",
   "metadata": {
    "scrolled": false
   },
   "outputs": [],
   "source": [
    "for col in cols:\n",
    "    print(\"{} : {}\".format(cols,flood[col].unique()))"
   ]
  },
  {
   "cell_type": "markdown",
   "id": "f3039831",
   "metadata": {},
   "source": [
    "<font color='lightblue' size='5' face='verdana'>**TAKE AWAY:**</font>\n",
    "\n",
    "    - Values in each feature doen't contains any special characters."
   ]
  },
  {
   "cell_type": "markdown",
   "id": "a8fc70e9",
   "metadata": {},
   "source": [
    "<font color='green' size='5' face='verdana'>**EXPLORATORY DATA ANALYSIS**</font>"
   ]
  },
  {
   "cell_type": "markdown",
   "id": "1e87d533",
   "metadata": {},
   "source": [
    "<font color='navy' size='4'>**VISUALISATION**</font>"
   ]
  },
  {
   "cell_type": "markdown",
   "id": "ae624998",
   "metadata": {},
   "source": [
    "<font color='brown' size='3'>**UNIVARIABLE ANALYSIS**</font>"
   ]
  },
  {
   "cell_type": "markdown",
   "id": "a6cc758b",
   "metadata": {},
   "source": [
    "<font color='darkviolet' size='3' >**CATEGORICAL FEATURES**</font>"
   ]
  },
  {
   "cell_type": "code",
   "execution_count": null,
   "id": "cb7d0238",
   "metadata": {
    "scrolled": false
   },
   "outputs": [],
   "source": [
    "categorical_features = flood.select_dtypes(include=\"object\").columns\n",
    "\n",
    "for feature in categorical_features:\n",
    "    plt.figure(figsize=(8,5))\n",
    "    \n",
    "    sns.countplot(x=feature, data=flood, order=flood[feature].value_counts().index)\n",
    "   \n",
    "    for p in plt.gca().patches: # gca:get current axis\n",
    "        plt.text(p.get_x() + p.get_width()/2, p.get_height(), f'{p.get_height()}', ha='center')\n",
    "        # p.get_x(): Get the x-coordinate of the left side of the bar\n",
    "        # p.get_width(): Get the width of the bar\n",
    "        # p.get_height(): Get the height of the bar\n",
    "        # f'{p.get_height()}': Format the height value as a string to display in the plot\n",
    "        \n",
    "    plt.title(f'{feature} Counts')\n",
    "    plt.xlabel(feature)\n",
    "    plt.ylabel(\"Frequency\")\n",
    "    sns.despine()  # remove the spines\n",
    "    plt.show()\n"
   ]
  },
  {
   "cell_type": "markdown",
   "id": "65f938eb",
   "metadata": {},
   "source": [
    "<font color='lightblue' size='5' face='verdana'>**TAKE AWAY:**</font>\n",
    "- The number of subdivisions in Kerala seems to be increasing over time.\n",
    "- There are 60 instances where floods occurred.\n",
    "- There are 58 instances where floods did not occur."
   ]
  },
  {
   "cell_type": "markdown",
   "id": "2171a83b",
   "metadata": {},
   "source": [
    "<font color='darkviolet' size='3' >**NUMERICAL FEATURES**</font>"
   ]
  },
  {
   "cell_type": "code",
   "execution_count": null,
   "id": "106eae7b",
   "metadata": {
    "scrolled": false
   },
   "outputs": [],
   "source": [
    "numerical_features = flood.select_dtypes(include=['int64','float64']).columns\n",
    "\n",
    "for feature in numerical_features:\n",
    "    plt.figure(figsize=(8, 5))\n",
    "    \n",
    "    sns.histplot(flood[feature], bins=20, kde=True)\n",
    "    \n",
    "    for p in plt.gca().patches: # gca:get current axis\n",
    "        plt.text(p.get_x() + p.get_width()/2, p.get_height(), f'{p.get_height()}', ha='center')\n",
    "        \n",
    "    plt.title(f'{feature} Distribution')\n",
    "    plt.xlabel(feature)\n",
    "    plt.ylabel('Frequency')\n",
    "    sns.despine()  # remove the spines\n",
    "    plt.show()"
   ]
  },
  {
   "cell_type": "markdown",
   "id": "e50fe898",
   "metadata": {},
   "source": [
    "<font color='lightblue' size='5' face='verdana'>**TAKE AWAY:**</font>\n",
    "\n",
    "- Shows the distribution rainfall according to year,month and annualy.\n",
    "- From annual rainfall distribution, the average annual rainfall falls between 2,000 and 4,500 millimeters. The most frequent range appears to be between 2,500 and 3,500 millimeters."
   ]
  },
  {
   "cell_type": "markdown",
   "id": "9f30a3b8",
   "metadata": {},
   "source": [
    "<font color='brown' size='3' >**MULTIVARIABLE ANALYSIS**</font>"
   ]
  },
  {
   "cell_type": "markdown",
   "id": "0aad2fd6",
   "metadata": {},
   "source": [
    "<font color='orange' size='3'>**RELATION BETWEEN FEATURES**</font>"
   ]
  },
  {
   "cell_type": "code",
   "execution_count": null,
   "id": "b8c9b303",
   "metadata": {},
   "outputs": [],
   "source": [
    "plt.figure(figsize=(10, 8))\n",
    "correlation_matrix = flood.corr()\n",
    "sns.heatmap(correlation_matrix, annot=True, cmap='coolwarm', linewidths=.5)\n",
    "plt.title('RELATION BETWEEN FEATURES')\n",
    "plt.show()"
   ]
  },
  {
   "cell_type": "markdown",
   "id": "66e6eb88",
   "metadata": {},
   "source": [
    "<font color='lightblue' size='5' face='verdana'>**TAKE AWAY:**</font>\n",
    "\n",
    "- 'JUNE',\"JULY\" and \"AUGUST\" show positive correlations with \"ANNUAL RAINFALL,\" indicating that higher rainfall in these months contributes to a higher annual total, which is expected as these months are typically part of the monsoon season.\n",
    "- May shows a positive correlation with other months but doesn't have a strong association with annual rainfall.\n",
    "- February is associated with lower annual rainfall."
   ]
  },
  {
   "cell_type": "markdown",
   "id": "c2249691",
   "metadata": {},
   "source": [
    "<font color='orange' size='3'>**ANNUAL RAINFALL OVER THE YEARS**</font>"
   ]
  },
  {
   "cell_type": "code",
   "execution_count": null,
   "id": "e573fbd5",
   "metadata": {},
   "outputs": [],
   "source": [
    "plt.figure(figsize=(12, 6))\n",
    "plt.plot(flood['YEAR'], flood['ANNUAL RAINFALL'])\n",
    "plt.title('Annual Rainfall Over the Years')\n",
    "plt.xlabel('Year')\n",
    "plt.ylabel('Annual Rainfall (mm)')\n",
    "plt.show()"
   ]
  },
  {
   "cell_type": "markdown",
   "id": "85b8c3a8",
   "metadata": {},
   "source": [
    "<font color='lightblue' size='5' face='verdana'>**TAKE AWAY:**</font>\n",
    "\n",
    "- There seems to be an increasing trend in annual rainfall over a long period of time. This could be due to various factors, like climate change or natural cycles.\n",
    "-  Some years experience higher rainfall than others.\n",
    "- The year 1900 appears to have the least amount of rainfall, with most months receiving less than 2.5 units.\n",
    "- The rainfall amount appears to be more evenly distributed in several years, such as 1940, 1980, and 2000.\n",
    "- The year 2020 seems to have the highest amount of rainfall, with several months receiving more than 150 units."
   ]
  },
  {
   "cell_type": "markdown",
   "id": "7359e828",
   "metadata": {},
   "source": [
    "<font color='brown' size='3'>**MAXIMUM AND MINIMUM RAINFALL OCCURED**</font>"
   ]
  },
  {
   "cell_type": "code",
   "execution_count": null,
   "id": "55582dc2",
   "metadata": {},
   "outputs": [],
   "source": [
    "flood.loc[flood['ANNUAL RAINFALL'].idxmax()]\n"
   ]
  },
  {
   "cell_type": "code",
   "execution_count": null,
   "id": "50897d0f",
   "metadata": {},
   "outputs": [],
   "source": [
    "flood.loc[flood['ANNUAL RAINFALL'].idxmin()]"
   ]
  },
  {
   "cell_type": "markdown",
   "id": "3f739004",
   "metadata": {},
   "source": [
    "<font color='darkviolet' size='3'>**AVERAGE ANNUAL RAINFALL FOR FLOODS**</font>"
   ]
  },
  {
   "cell_type": "code",
   "execution_count": null,
   "id": "e6883432",
   "metadata": {},
   "outputs": [],
   "source": [
    "sns.barplot(x=\"FLOODS\",y=\"ANNUAL RAINFALL\", data=flood)  \n",
    "plt.xlabel(\"Flood Occurance\")\n",
    "plt.ylabel(\"Annual Rainfall\")\n",
    "plt.title(\"Average annual rainfall for floods\")\n",
    "sns.despine()  # remove the spines\n",
    "plt.show()"
   ]
  },
  {
   "cell_type": "markdown",
   "id": "cdec92d1",
   "metadata": {},
   "source": [
    "<font color='lightblue' size='5' face='verdana'>**TAKE AWAY:**</font>\n",
    "\n",
    "- INCREASE IN RAINFALL LEAD TO THE OCCURRENCE OF FLOOD "
   ]
  },
  {
   "cell_type": "markdown",
   "id": "9984a09d",
   "metadata": {},
   "source": [
    "<font color='navy' size='4'>**WHAT ABOUT THE OUTLIERS?**</font>"
   ]
  },
  {
   "cell_type": "markdown",
   "id": "3387cbdf",
   "metadata": {},
   "source": [
    "<font color='brown' size='3'>**IDENTIFY OUTLIERS USING IQR METHODS AND VISUALIZE USING BOX PLOTS**</font>"
   ]
  },
  {
   "cell_type": "code",
   "execution_count": null,
   "id": "9995ae2c",
   "metadata": {},
   "outputs": [],
   "source": [
    "Q1 = flood.quantile(0.25)\n",
    "Q3 = flood.quantile(0.75)"
   ]
  },
  {
   "cell_type": "code",
   "execution_count": null,
   "id": "7163cf92",
   "metadata": {},
   "outputs": [],
   "source": [
    "IQR = Q3 - Q1"
   ]
  },
  {
   "cell_type": "code",
   "execution_count": null,
   "id": "2e57198a",
   "metadata": {},
   "outputs": [],
   "source": [
    "outliers = ((flood < (Q1 - 1.5 * IQR)) | (flood > (Q3 + 1.5 * IQR))).any(axis=1)\n",
    "outliers_count = outliers.sum()\n",
    "print(f\"Number of outliers: {outliers_count}\")"
   ]
  },
  {
   "cell_type": "markdown",
   "id": "f0358cf3",
   "metadata": {},
   "source": [
    "<font color='lightblue' size='5' face='verdana'>**TAKE AWAY:**</font>\n",
    "\n",
    "- There are 41 outliers in this dataset"
   ]
  },
  {
   "cell_type": "markdown",
   "id": "2b8586fe",
   "metadata": {},
   "source": [
    "<font color='orange' size='3'>**DISPLAYING OUTLIERS IN THE DATASET**</font>"
   ]
  },
  {
   "cell_type": "code",
   "execution_count": null,
   "id": "28addd01",
   "metadata": {},
   "outputs": [],
   "source": [
    "flood[outliers]"
   ]
  },
  {
   "cell_type": "code",
   "execution_count": null,
   "id": "7f5b293e",
   "metadata": {},
   "outputs": [],
   "source": [
    "flood[outliers].shape"
   ]
  },
  {
   "cell_type": "markdown",
   "id": "d5fc77b2",
   "metadata": {},
   "source": [
    "<font color='lightblue' size='5' face='verdana'>**TAKE AWAY:**</font>\n",
    "\n",
    "The dataset is limited to 118 rows,so removing outliers may lead to a very poor dataset."
   ]
  },
  {
   "cell_type": "markdown",
   "id": "6ccd4348",
   "metadata": {},
   "source": [
    "<font color='orange' size='3'>**VISUALIZING THE OULIERS WITH THE HELP OF BOXPLOTS**</font>"
   ]
  },
  {
   "cell_type": "code",
   "execution_count": null,
   "id": "70460fd5",
   "metadata": {},
   "outputs": [],
   "source": [
    "plt.figure(figsize=(15, 8))\n",
    "for i, feature in enumerate(numerical_features, 1):\n",
    "    plt.subplot(3, 5, i)\n",
    "    sns.boxplot(x=flood[feature], color='pink')\n",
    "    plt.title(f'Box Plot of {feature}')\n",
    "    plt.xlabel(feature)\n",
    "\n",
    "plt.tight_layout()\n",
    "plt.show()"
   ]
  },
  {
   "cell_type": "markdown",
   "id": "25b351ed",
   "metadata": {},
   "source": [
    "<font color='green' size='5' face='verdana'>**CONDITIONAL PROBABILITY**</font>"
   ]
  },
  {
   "cell_type": "code",
   "execution_count": null,
   "id": "f9a253d2",
   "metadata": {},
   "outputs": [],
   "source": [
    "flood_kerala=flood.copy()"
   ]
  },
  {
   "cell_type": "code",
   "execution_count": null,
   "id": "454112eb",
   "metadata": {},
   "outputs": [],
   "source": [
    "ax = flood[['JAN', 'FEB', 'MAR', 'APR','MAY', 'JUN','JUL','AUG', 'SEP', 'OCT','NOV','DEC']].mean().plot.bar(edgecolor='k',align='center',linewidth=1,figsize=(14,6))\n",
    "        \n",
    "plt.xlabel('Month')\n",
    "plt.ylabel('Monthly Rainfall')\n",
    "plt.title('Rainfall in Kerela for all Months')\n",
    "ax.tick_params(labelsize=20)\n",
    "sns.despine()  # remove the spines\n",
    "plt.show()"
   ]
  },
  {
   "cell_type": "markdown",
   "id": "ee14070f",
   "metadata": {},
   "source": [
    "<font color='lightblue' size='5' face='verdana'>**TAKE AWAY:**</font>\n",
    "\n",
    "- Kerala receives the highest rainfall mostly in the months `june` and `july` and in `august`, which is expected as these months are typically part of the monsoon season. \n",
    "- Since we are only interested in knowing the rainfall in the months June, July, and August and we want to find out the probability of flooding in a particular year, we are only taking the corresponding features.\n",
    "\n",
    "- probability of flooding in a year given that it rained more than a threshold (500 mm) in these months. We needed to create more features in order to find these probabilities.\n",
    "\n"
   ]
  },
  {
   "cell_type": "markdown",
   "id": "897ef692",
   "metadata": {},
   "source": [
    "<font color='brown' size='3'>Finding chances of getting during the months when the rainfall is greater than 500mm**</font>"
   ]
  },
  {
   "cell_type": "code",
   "execution_count": null,
   "id": "a28e01ab",
   "metadata": {},
   "outputs": [],
   "source": [
    "flood_kerala['JUN_GT_500'] = (flood_kerala['JUN'] > 500).astype('int')\n",
    "flood_kerala['JUL_GT_500'] = (flood_kerala['JUL'] > 500).astype('int')\n",
    "flood_kerala['AUG_GT_500'] = (flood_kerala['AUG'] > 500).astype('int')"
   ]
  },
  {
   "cell_type": "code",
   "execution_count": null,
   "id": "f7930960",
   "metadata": {},
   "outputs": [],
   "source": [
    "df_small = flood_kerala.loc[:,['YEAR','JUN_GT_500','JUL_GT_500','AUG_GT_500','FLOODS']]\n",
    "df_small"
   ]
  },
  {
   "cell_type": "markdown",
   "id": "5acfd8ff",
   "metadata": {},
   "source": [
    "<font color='darkviolet' size='3'>**MONTH: JUNE**</font>"
   ]
  },
  {
   "cell_type": "markdown",
   "id": "5cb894ff",
   "metadata": {},
   "source": [
    "    P(A) = Probability of Flooding\n",
    "    P(B) = Probaility of having more than 500 mm rain in June\n",
    "    p(AnB) = Probabiity of flooding and having more than 500mm rain in June\n",
    "    P(A|B) = Probabiity of flooding given it rained more than 500 mm in June"
   ]
  },
  {
   "cell_type": "code",
   "execution_count": null,
   "id": "5d25993c",
   "metadata": {},
   "outputs": [],
   "source": [
    "pd.crosstab(df_small['FLOODS'],df_small['JUN_GT_500'],margins=True)"
   ]
  },
  {
   "cell_type": "markdown",
   "id": "b8bc2e30",
   "metadata": {},
   "source": [
    "    P(A) = (6+54)/(19+39+6+54)\n",
    "         = 0.5084745762711864\n",
    "    P(B) = (39+54)/(19+39+6+54)\n",
    "         = 0.788135593220339\n",
    "    P(AnB) = (54)/(19+39+6+54)\n",
    "           = 0.4576271186440678\n",
    "    P(A|B) = P(AnB)/P(B)\n",
    "           = 0.4576271186440678 / 0.788135593220339\n",
    "           = 0.5806451612903226"
   ]
  },
  {
   "cell_type": "markdown",
   "id": "59b39e48",
   "metadata": {},
   "source": [
    "- CHANCES FOR GETTING A FLOOD IF THE RAINFALL IS GREATER THAN 500 IS 58% IN THE MONTH JUNE."
   ]
  },
  {
   "cell_type": "markdown",
   "id": "4dd89308",
   "metadata": {},
   "source": [
    "<font color='darkviolet' size='3'>**MONTH: JULY**</font>"
   ]
  },
  {
   "cell_type": "code",
   "execution_count": null,
   "id": "0e044b39",
   "metadata": {},
   "outputs": [],
   "source": [
    "pd.crosstab(df_small['FLOODS'],df_small['JUL_GT_500'],margins=True)"
   ]
  },
  {
   "cell_type": "markdown",
   "id": "92f1fda8",
   "metadata": {},
   "source": [
    "    P(A) = Probability of Flooding\n",
    "    P(B) = Probaility of having more than 500 mm rain in July\n",
    "    p(AnB) = Probabiity of flooding and having more than 500mm rain in July\n",
    "    P(A|B) = Probabiity of flooding given it rained more than 500 mm in July\n"
   ]
  },
  {
   "cell_type": "markdown",
   "id": "90141637",
   "metadata": {},
   "source": [
    "    P(A) = (3+57)/(19+39+6+54)\n",
    "         = 0.5084745762711864\n",
    "    P(B) = (39+57)/(19+39+6+54)\n",
    "         = 0.8135593220338984\n",
    "    P(AnB) = (57)/(19+39+6+54)\n",
    "           = 0.4830508474576271\n",
    "    P(A|B) = P(AnB)/P(B)\n",
    "           = 0.4830508474576271 / 0.8135593220338984\n",
    "           = 0.59375"
   ]
  },
  {
   "cell_type": "markdown",
   "id": "b9b3cc2a",
   "metadata": {},
   "source": [
    "- CHANCES FOR GETTING A FLOOD IF THE RAINFALL IS GREATER THAN 500 IS 59% IN THE MONTH JULY."
   ]
  },
  {
   "cell_type": "markdown",
   "id": "83c34dd4",
   "metadata": {},
   "source": [
    "<font color='darkviolet' size='3'>**MONTH: AUGUST**</font>"
   ]
  },
  {
   "cell_type": "code",
   "execution_count": null,
   "id": "7828629a",
   "metadata": {},
   "outputs": [],
   "source": [
    "pd.crosstab(df_small['FLOODS'],df_small['AUG_GT_500'],margins=True)"
   ]
  },
  {
   "cell_type": "markdown",
   "id": "5b6535ea",
   "metadata": {},
   "source": [
    "    P(A) = Probability of Flooding\n",
    "    P(B) = Probaility of having more than 500 mm rain in August.\n",
    "    p(AnB) = Probabiity of flooding and having more than 500mm rain in August.\n",
    "    P(A|B) = Probabiity of flooding given it rained more than 500 mm in August."
   ]
  },
  {
   "cell_type": "markdown",
   "id": "edf16c89",
   "metadata": {},
   "source": [
    "    P(A) = (41 + 19) / 118\n",
    "         = 0.5084745762711864\n",
    "    P(B) = (11 + 19) / 118\n",
    "         = 0.2542372881355932\n",
    "    P(AnB) = 19 / 118\n",
    "           = 0.16101694915254236\n",
    "    P(A|B) = P(AnB) / P(B)\n",
    "           = 0.16101694915254236 / 0.2711864406779661\n",
    "           = 0.6333333333333333"
   ]
  },
  {
   "cell_type": "markdown",
   "id": "cd2897bd",
   "metadata": {},
   "source": [
    "- CHANCES FOR GETTING A FLOOD IF THE RAINFALL IS GREATER THAN 500 IS 63% IN THE MONTH AUGUST."
   ]
  },
  {
   "cell_type": "markdown",
   "id": "e7d30cc7",
   "metadata": {},
   "source": [
    "<font color='lightblue' size='5' face='verdana'>**TAKE AWAY:**</font>\n",
    "\n",
    "- The probability of floods tends to increase with higher rainfall, and August has the highest likelihood among the June and July months when the rainfall exceeds 500 mm.\n"
   ]
  },
  {
   "cell_type": "markdown",
   "id": "5d978f5b",
   "metadata": {},
   "source": [
    "<font color='navy' size='4'>**RAINFALL OVER THE MONTHS:JUNE,JULY AND AUGUST**</font>"
   ]
  },
  {
   "cell_type": "code",
   "execution_count": null,
   "id": "a3570457",
   "metadata": {},
   "outputs": [],
   "source": [
    "c = flood[['JUN','JUL','AUG']]\n",
    "c.hist()\n",
    "plt.show()"
   ]
  },
  {
   "cell_type": "markdown",
   "id": "a8c623da",
   "metadata": {},
   "source": [
    "<font color='green' size='5' face='verdana'>**MODEL IMPLEMENTATION**</font>"
   ]
  },
  {
   "cell_type": "markdown",
   "id": "b0368ab4",
   "metadata": {},
   "source": [
    "<font color='navy' size='4'>**CONVERTING CATEGORICAL DATAS TO NUMERICAL**</font>"
   ]
  },
  {
   "cell_type": "code",
   "execution_count": null,
   "id": "ecb8550f",
   "metadata": {},
   "outputs": [],
   "source": [
    "label_encoder = LabelEncoder()"
   ]
  },
  {
   "cell_type": "code",
   "execution_count": null,
   "id": "87bb3464",
   "metadata": {},
   "outputs": [],
   "source": [
    "categorical_cols = flood.select_dtypes(include='object').columns"
   ]
  },
  {
   "cell_type": "code",
   "execution_count": null,
   "id": "3f63c036",
   "metadata": {},
   "outputs": [],
   "source": [
    "for col in categorical_cols:\n",
    "        flood[col] = label_encoder.fit_transform(flood[col])"
   ]
  },
  {
   "cell_type": "code",
   "execution_count": null,
   "id": "486c63fe",
   "metadata": {},
   "outputs": [],
   "source": [
    "flood.sample(5)"
   ]
  },
  {
   "cell_type": "markdown",
   "id": "cdc70525",
   "metadata": {},
   "source": [
    "<font color='lightblue' size='5' face='verdana'>**TAKE AWAY:**</font>\n",
    "\n",
    "Now the target feature (categorical data) is changed to a numerical value by the label encoder."
   ]
  },
  {
   "cell_type": "markdown",
   "id": "3a575ac7",
   "metadata": {},
   "source": [
    "<font color='navy' size='4'>**SEPARATE INDEPENDENT VARIABLE (X) AND TARGET (y) VARIABLE**</font>"
   ]
  },
  {
   "cell_type": "markdown",
   "id": "689322d4",
   "metadata": {},
   "source": [
    "    TARGET VARIABLE : `FLOODS`\n",
    "    Here,\n",
    "        X: independent variable\n",
    "        y: dependent variable(target)"
   ]
  },
  {
   "cell_type": "code",
   "execution_count": null,
   "id": "94387e59",
   "metadata": {},
   "outputs": [],
   "source": [
    "X = flood.drop(['SUBDIVISION','FLOODS','YEAR'], axis=1)\n",
    "y = flood['FLOODS']"
   ]
  },
  {
   "cell_type": "code",
   "execution_count": null,
   "id": "e9581fb8",
   "metadata": {},
   "outputs": [],
   "source": [
    "X"
   ]
  },
  {
   "cell_type": "code",
   "execution_count": null,
   "id": "c3052ced",
   "metadata": {},
   "outputs": [],
   "source": [
    "y"
   ]
  },
  {
   "cell_type": "markdown",
   "id": "6d319390",
   "metadata": {},
   "source": [
    "<font color='navy' size='4'>**SPLIT THE DATASET INTO TRAINING AND TESTING SETS**</font>"
   ]
  },
  {
   "cell_type": "code",
   "execution_count": null,
   "id": "838d86f7",
   "metadata": {},
   "outputs": [],
   "source": [
    "X_train, X_test, y_train, y_test = train_test_split(X, y, test_size=0.2, random_state=42)"
   ]
  },
  {
   "cell_type": "markdown",
   "id": "002bd6c6",
   "metadata": {},
   "source": [
    "<font color='navy' size='4'>**CHECKING WHETHER THE TARGET VARIABLE IS BALANCED OR NOT**</font>"
   ]
  },
  {
   "cell_type": "code",
   "execution_count": null,
   "id": "8f05a92f",
   "metadata": {},
   "outputs": [],
   "source": [
    "flood[\"FLOODS\"].value_counts()"
   ]
  },
  {
   "cell_type": "markdown",
   "id": "3f138680",
   "metadata": {},
   "source": [
    "<font color='lightblue' size='5' face='verdana'>**TAKE AWAY:**</font>\n",
    "\n",
    "The data is balanced."
   ]
  },
  {
   "cell_type": "markdown",
   "id": "c5bacae3",
   "metadata": {},
   "source": [
    "<font color='navy' size='4'>**CHECKS WHETHER DATASET NEEDS TO BE STANDARDIZED**</font>"
   ]
  },
  {
   "cell_type": "code",
   "execution_count": null,
   "id": "26e6020f",
   "metadata": {
    "scrolled": false
   },
   "outputs": [],
   "source": [
    "flood.hist(bins = 50,figsize=(20,15))\n",
    "plt.show()\n"
   ]
  },
  {
   "cell_type": "markdown",
   "id": "48156256",
   "metadata": {},
   "source": [
    "<font color='lightblue' size='5' face='verdana'>**TAKE AWAY:**</font>\n",
    "\n",
    "It looks like those values are scattered,so while scaling them, they end up ranging from 0 to 1."
   ]
  },
  {
   "cell_type": "markdown",
   "id": "fde948be",
   "metadata": {},
   "source": [
    "<font color='navy' size='4'>**SCALE DATA USING STANDARDSCALER**</font>"
   ]
  },
  {
   "cell_type": "code",
   "execution_count": null,
   "id": "7646ad14",
   "metadata": {},
   "outputs": [],
   "source": [
    "scaler = StandardScaler()"
   ]
  },
  {
   "cell_type": "code",
   "execution_count": null,
   "id": "36483b09",
   "metadata": {},
   "outputs": [],
   "source": [
    "X_train_scaled = scaler.fit_transform(X_train)\n",
    "X_test_scaled = scaler.transform(X_test)"
   ]
  },
  {
   "cell_type": "code",
   "execution_count": null,
   "id": "43b20008",
   "metadata": {},
   "outputs": [],
   "source": [
    "X_train_scaled"
   ]
  },
  {
   "cell_type": "code",
   "execution_count": null,
   "id": "799f1065",
   "metadata": {
    "scrolled": false
   },
   "outputs": [],
   "source": [
    "X_test_scaled"
   ]
  },
  {
   "cell_type": "markdown",
   "id": "60307367",
   "metadata": {},
   "source": [
    "<font color='navy' size='4'>**HYPERPARAMETER TUNNING**</font>"
   ]
  },
  {
   "cell_type": "markdown",
   "id": "a59a0a35",
   "metadata": {},
   "source": [
    "<font color='brown' size='3'>**DEFINE MACHINE LEARNING MODELS AND HYPERPARAMETER GRIDS**</font>"
   ]
  },
  {
   "cell_type": "code",
   "execution_count": null,
   "id": "1bd4b9a8",
   "metadata": {},
   "outputs": [],
   "source": [
    "models = {\n",
    "    'LogisticRegression': (LogisticRegression(), {'C': [0.1, 1, 10], 'penalty': ['l1', 'l2']}),\n",
    "    'SVM': (SVC(), {'C': [0.1, 1, 10], 'kernel': ['linear', 'rbf']}),\n",
    "    'KNN': (KNeighborsClassifier(), {'n_neighbors': [3, 5, 7]}),\n",
    "    'RandomForest': (RandomForestClassifier(), {'n_estimators': [50, 100, 200], 'max_depth': [None, 10, 20]}),\n",
    "    'DecisionTree': (DecisionTreeClassifier(), {'max_depth': [None, 10, 20, 30]}),\n",
    "}\n"
   ]
  },
  {
   "cell_type": "markdown",
   "id": "5e7c6b79",
   "metadata": {},
   "source": [
    "<font color='brown' size='3'>**TRAIN THE DATASET**</font>"
   ]
  },
  {
   "cell_type": "code",
   "execution_count": 100,
   "id": "fef2c63d",
   "metadata": {},
   "outputs": [],
   "source": [
    "results = {}\n",
    "for model_name, (model, param_grid) in models.items():\n",
    "    grid_search = GridSearchCV(model, param_grid, cv=5, scoring='accuracy', n_jobs=-1)\n",
    "    grid_search.fit(X_train_scaled, y_train)"
   ]
  },
  {
   "cell_type": "markdown",
   "id": "964ce043",
   "metadata": {},
   "source": [
    "<font color='brown' size='3'>**EVALUATING TEST SET**</font>"
   ]
  },
  {
   "cell_type": "code",
   "execution_count": 101,
   "id": "c137668a",
   "metadata": {},
   "outputs": [],
   "source": [
    "y_pred = grid_search.best_estimator_.predict(X_test_scaled)\n",
    "accuracy = accuracy_score(y_test, y_pred)"
   ]
  },
  {
   "cell_type": "code",
   "execution_count": 102,
   "id": "b96ec37b",
   "metadata": {},
   "outputs": [],
   "source": [
    "\n",
    "results[model_name] = {\n",
    "    'best_params': grid_search.best_params_,\n",
    "    'best_score': grid_search.best_score_,\n",
    "    'test_accuracy': accuracy\n",
    "}\n"
   ]
  },
  {
   "cell_type": "markdown",
   "id": "4f93de97",
   "metadata": {},
   "source": [
    "<font color='brown' size='3'>**DISPLAY RESULTS**</font>"
   ]
  },
  {
   "cell_type": "code",
   "execution_count": 103,
   "id": "36007661",
   "metadata": {},
   "outputs": [
    {
     "name": "stdout",
     "output_type": "stream",
     "text": [
      "Model: DecisionTree\n",
      "Best Parameters: {'max_depth': None}\n",
      "Best Cross-Validation Score: 0.9895\n",
      "Test Accuracy: 1.0000\n",
      "==================================================\n"
     ]
    }
   ],
   "source": [
    "for model_name, result in results.items():\n",
    "    print(f\"Model: {model_name}\")\n",
    "    print(f\"Best Parameters: {result['best_params']}\")\n",
    "    print(f\"Best Cross-Validation Score: {result['best_score']:.4f}\")\n",
    "    print(f\"Test Accuracy: {result['test_accuracy']:.4f}\")\n",
    "    print(\"=\" * 50)"
   ]
  },
  {
   "cell_type": "markdown",
   "id": "8b0f8ac0",
   "metadata": {},
   "source": [
    "<font color='navy' size='4'>**TRAIN AND EVALUATE BASE MODELS**</font>"
   ]
  },
  {
   "cell_type": "code",
   "execution_count": 117,
   "id": "db83d128",
   "metadata": {},
   "outputs": [
    {
     "ename": "TypeError",
     "evalue": "list.append() takes exactly one argument (4 given)",
     "output_type": "error",
     "traceback": [
      "\u001b[1;31m---------------------------------------------------------------------------\u001b[0m",
      "\u001b[1;31mTypeError\u001b[0m                                 Traceback (most recent call last)",
      "Cell \u001b[1;32mIn[117], line 11\u001b[0m\n\u001b[0;32m      9\u001b[0m     model\u001b[38;5;241m.\u001b[39mfit(X_train, y_train)\n\u001b[0;32m     10\u001b[0m     y_pred \u001b[38;5;241m=\u001b[39m model\u001b[38;5;241m.\u001b[39mpredict(X_test)\n\u001b[1;32m---> 11\u001b[0m     \u001b[43mscores\u001b[49m\u001b[38;5;241;43m.\u001b[39;49m\u001b[43mappend\u001b[49m\u001b[43m(\u001b[49m\u001b[43maccuracy_score\u001b[49m\u001b[43m(\u001b[49m\u001b[43my_test\u001b[49m\u001b[43m,\u001b[49m\u001b[43m \u001b[49m\u001b[43my_pred\u001b[49m\u001b[43m)\u001b[49m\u001b[43m,\u001b[49m\u001b[43mprecision_score\u001b[49m\u001b[43m(\u001b[49m\u001b[43my_test\u001b[49m\u001b[43m,\u001b[49m\u001b[43m \u001b[49m\u001b[43my_pred\u001b[49m\u001b[43m)\u001b[49m\u001b[43m,\u001b[49m\u001b[43mrecall_score\u001b[49m\u001b[43m(\u001b[49m\u001b[43my_test\u001b[49m\u001b[43m,\u001b[49m\u001b[43m \u001b[49m\u001b[43my_pred\u001b[49m\u001b[43m)\u001b[49m\u001b[43m,\u001b[49m\u001b[43mf1_score\u001b[49m\u001b[43m(\u001b[49m\u001b[43my_test\u001b[49m\u001b[43m,\u001b[49m\u001b[43m \u001b[49m\u001b[43my_pred\u001b[49m\u001b[43m)\u001b[49m\u001b[43m)\u001b[49m\n\u001b[0;32m     12\u001b[0m     names\u001b[38;5;241m.\u001b[39mappend(name)\n\u001b[0;32m     13\u001b[0m tr_split \u001b[38;5;241m=\u001b[39m pd\u001b[38;5;241m.\u001b[39mDataFrame({\u001b[38;5;124m'\u001b[39m\u001b[38;5;124mName\u001b[39m\u001b[38;5;124m'\u001b[39m: names, \u001b[38;5;124m'\u001b[39m\u001b[38;5;124mScore\u001b[39m\u001b[38;5;124m'\u001b[39m: scores})\n",
      "\u001b[1;31mTypeError\u001b[0m: list.append() takes exactly one argument (4 given)"
     ]
    }
   ],
   "source": [
    "\n",
    "ml_models = []\n",
    "ml_models.append(('KNN', KNeighborsClassifier()))\n",
    "ml_models.append(('LR', LogisticRegression()))\n",
    "ml_models.append(('SVC', SVC()))\n",
    "ml_models.append(('RF', RandomForestClassifier()))\n",
    "names = []\n",
    "scores = [[[[]]]]\n",
    "for name, model in ml_models:\n",
    "    model.fit(X_train, y_train)\n",
    "    y_pred = model.predict(X_test)\n",
    "    scores.append(accuracy_score(y_test, y_pred),precision_score(y_test, y_pred),recall_score(y_test, y_pred),f1_score(y_test, y_pred))\n",
    "    names.append(name)\n",
    "tr_split = pd.DataFrame({'Name': names, 'Score': scores})\n",
    "print(tr_split)"
   ]
  },
  {
   "cell_type": "code",
   "execution_count": 114,
   "id": "a8ea32d1",
   "metadata": {},
   "outputs": [
    {
     "name": "stdout",
     "output_type": "stream",
     "text": [
      "Length of 'names': 4\n",
      "Length of 'accuracy_scores': 17\n",
      "Length of 'precision_scores': 17\n",
      "Length of 'recall_scores': 17\n",
      "Length of 'f1_scores': 17\n"
     ]
    },
    {
     "ename": "ValueError",
     "evalue": "All arrays must be of the same length",
     "output_type": "error",
     "traceback": [
      "\u001b[1;31m---------------------------------------------------------------------------\u001b[0m",
      "\u001b[1;31mValueError\u001b[0m                                Traceback (most recent call last)",
      "Cell \u001b[1;32mIn[114], line 28\u001b[0m\n\u001b[0;32m     25\u001b[0m \u001b[38;5;28mprint\u001b[39m(\u001b[38;5;124m\"\u001b[39m\u001b[38;5;124mLength of \u001b[39m\u001b[38;5;124m'\u001b[39m\u001b[38;5;124mf1_scores\u001b[39m\u001b[38;5;124m'\u001b[39m\u001b[38;5;124m:\u001b[39m\u001b[38;5;124m\"\u001b[39m, \u001b[38;5;28mlen\u001b[39m(f1_scores))\n\u001b[0;32m     27\u001b[0m \u001b[38;5;66;03m# Create the DataFrame outside the loop\u001b[39;00m\n\u001b[1;32m---> 28\u001b[0m tr_split \u001b[38;5;241m=\u001b[39m \u001b[43mpd\u001b[49m\u001b[38;5;241;43m.\u001b[39;49m\u001b[43mDataFrame\u001b[49m\u001b[43m(\u001b[49m\u001b[43m{\u001b[49m\u001b[38;5;124;43m'\u001b[39;49m\u001b[38;5;124;43mModel\u001b[39;49m\u001b[38;5;124;43m'\u001b[39;49m\u001b[43m:\u001b[49m\u001b[43m \u001b[49m\u001b[43mnames\u001b[49m\u001b[43m,\u001b[49m\n\u001b[0;32m     29\u001b[0m \u001b[43m                         \u001b[49m\u001b[38;5;124;43m'\u001b[39;49m\u001b[38;5;124;43mAccuracy\u001b[39;49m\u001b[38;5;124;43m'\u001b[39;49m\u001b[43m:\u001b[49m\u001b[43m \u001b[49m\u001b[43maccuracy_scores\u001b[49m\u001b[43m,\u001b[49m\n\u001b[0;32m     30\u001b[0m \u001b[43m                         \u001b[49m\u001b[38;5;124;43m'\u001b[39;49m\u001b[38;5;124;43mPrecision\u001b[39;49m\u001b[38;5;124;43m'\u001b[39;49m\u001b[43m:\u001b[49m\u001b[43m \u001b[49m\u001b[43mprecision_scores\u001b[49m\u001b[43m,\u001b[49m\n\u001b[0;32m     31\u001b[0m \u001b[43m                         \u001b[49m\u001b[38;5;124;43m'\u001b[39;49m\u001b[38;5;124;43mRecall\u001b[39;49m\u001b[38;5;124;43m'\u001b[39;49m\u001b[43m:\u001b[49m\u001b[43m \u001b[49m\u001b[43mrecall_scores\u001b[49m\u001b[43m,\u001b[49m\n\u001b[0;32m     32\u001b[0m \u001b[43m                         \u001b[49m\u001b[38;5;124;43m'\u001b[39;49m\u001b[38;5;124;43mF1 Score\u001b[39;49m\u001b[38;5;124;43m'\u001b[39;49m\u001b[43m:\u001b[49m\u001b[43m \u001b[49m\u001b[43mf1_scores\u001b[49m\u001b[43m}\u001b[49m\u001b[43m)\u001b[49m\n\u001b[0;32m     34\u001b[0m \u001b[38;5;28mprint\u001b[39m(tr_split)\n",
      "File \u001b[1;32mC:\\ProgramData\\anaconda3\\lib\\site-packages\\pandas\\core\\frame.py:664\u001b[0m, in \u001b[0;36mDataFrame.__init__\u001b[1;34m(self, data, index, columns, dtype, copy)\u001b[0m\n\u001b[0;32m    658\u001b[0m     mgr \u001b[38;5;241m=\u001b[39m \u001b[38;5;28mself\u001b[39m\u001b[38;5;241m.\u001b[39m_init_mgr(\n\u001b[0;32m    659\u001b[0m         data, axes\u001b[38;5;241m=\u001b[39m{\u001b[38;5;124m\"\u001b[39m\u001b[38;5;124mindex\u001b[39m\u001b[38;5;124m\"\u001b[39m: index, \u001b[38;5;124m\"\u001b[39m\u001b[38;5;124mcolumns\u001b[39m\u001b[38;5;124m\"\u001b[39m: columns}, dtype\u001b[38;5;241m=\u001b[39mdtype, copy\u001b[38;5;241m=\u001b[39mcopy\n\u001b[0;32m    660\u001b[0m     )\n\u001b[0;32m    662\u001b[0m \u001b[38;5;28;01melif\u001b[39;00m \u001b[38;5;28misinstance\u001b[39m(data, \u001b[38;5;28mdict\u001b[39m):\n\u001b[0;32m    663\u001b[0m     \u001b[38;5;66;03m# GH#38939 de facto copy defaults to False only in non-dict cases\u001b[39;00m\n\u001b[1;32m--> 664\u001b[0m     mgr \u001b[38;5;241m=\u001b[39m \u001b[43mdict_to_mgr\u001b[49m\u001b[43m(\u001b[49m\u001b[43mdata\u001b[49m\u001b[43m,\u001b[49m\u001b[43m \u001b[49m\u001b[43mindex\u001b[49m\u001b[43m,\u001b[49m\u001b[43m \u001b[49m\u001b[43mcolumns\u001b[49m\u001b[43m,\u001b[49m\u001b[43m \u001b[49m\u001b[43mdtype\u001b[49m\u001b[38;5;241;43m=\u001b[39;49m\u001b[43mdtype\u001b[49m\u001b[43m,\u001b[49m\u001b[43m \u001b[49m\u001b[43mcopy\u001b[49m\u001b[38;5;241;43m=\u001b[39;49m\u001b[43mcopy\u001b[49m\u001b[43m,\u001b[49m\u001b[43m \u001b[49m\u001b[43mtyp\u001b[49m\u001b[38;5;241;43m=\u001b[39;49m\u001b[43mmanager\u001b[49m\u001b[43m)\u001b[49m\n\u001b[0;32m    665\u001b[0m \u001b[38;5;28;01melif\u001b[39;00m \u001b[38;5;28misinstance\u001b[39m(data, ma\u001b[38;5;241m.\u001b[39mMaskedArray):\n\u001b[0;32m    666\u001b[0m     \u001b[38;5;28;01mimport\u001b[39;00m \u001b[38;5;21;01mnumpy\u001b[39;00m\u001b[38;5;21;01m.\u001b[39;00m\u001b[38;5;21;01mma\u001b[39;00m\u001b[38;5;21;01m.\u001b[39;00m\u001b[38;5;21;01mmrecords\u001b[39;00m \u001b[38;5;28;01mas\u001b[39;00m \u001b[38;5;21;01mmrecords\u001b[39;00m\n",
      "File \u001b[1;32mC:\\ProgramData\\anaconda3\\lib\\site-packages\\pandas\\core\\internals\\construction.py:493\u001b[0m, in \u001b[0;36mdict_to_mgr\u001b[1;34m(data, index, columns, dtype, typ, copy)\u001b[0m\n\u001b[0;32m    489\u001b[0m     \u001b[38;5;28;01melse\u001b[39;00m:\n\u001b[0;32m    490\u001b[0m         \u001b[38;5;66;03m# dtype check to exclude e.g. range objects, scalars\u001b[39;00m\n\u001b[0;32m    491\u001b[0m         arrays \u001b[38;5;241m=\u001b[39m [x\u001b[38;5;241m.\u001b[39mcopy() \u001b[38;5;28;01mif\u001b[39;00m \u001b[38;5;28mhasattr\u001b[39m(x, \u001b[38;5;124m\"\u001b[39m\u001b[38;5;124mdtype\u001b[39m\u001b[38;5;124m\"\u001b[39m) \u001b[38;5;28;01melse\u001b[39;00m x \u001b[38;5;28;01mfor\u001b[39;00m x \u001b[38;5;129;01min\u001b[39;00m arrays]\n\u001b[1;32m--> 493\u001b[0m \u001b[38;5;28;01mreturn\u001b[39;00m \u001b[43marrays_to_mgr\u001b[49m\u001b[43m(\u001b[49m\u001b[43marrays\u001b[49m\u001b[43m,\u001b[49m\u001b[43m \u001b[49m\u001b[43mcolumns\u001b[49m\u001b[43m,\u001b[49m\u001b[43m \u001b[49m\u001b[43mindex\u001b[49m\u001b[43m,\u001b[49m\u001b[43m \u001b[49m\u001b[43mdtype\u001b[49m\u001b[38;5;241;43m=\u001b[39;49m\u001b[43mdtype\u001b[49m\u001b[43m,\u001b[49m\u001b[43m \u001b[49m\u001b[43mtyp\u001b[49m\u001b[38;5;241;43m=\u001b[39;49m\u001b[43mtyp\u001b[49m\u001b[43m,\u001b[49m\u001b[43m \u001b[49m\u001b[43mconsolidate\u001b[49m\u001b[38;5;241;43m=\u001b[39;49m\u001b[43mcopy\u001b[49m\u001b[43m)\u001b[49m\n",
      "File \u001b[1;32mC:\\ProgramData\\anaconda3\\lib\\site-packages\\pandas\\core\\internals\\construction.py:118\u001b[0m, in \u001b[0;36marrays_to_mgr\u001b[1;34m(arrays, columns, index, dtype, verify_integrity, typ, consolidate)\u001b[0m\n\u001b[0;32m    115\u001b[0m \u001b[38;5;28;01mif\u001b[39;00m verify_integrity:\n\u001b[0;32m    116\u001b[0m     \u001b[38;5;66;03m# figure out the index, if necessary\u001b[39;00m\n\u001b[0;32m    117\u001b[0m     \u001b[38;5;28;01mif\u001b[39;00m index \u001b[38;5;129;01mis\u001b[39;00m \u001b[38;5;28;01mNone\u001b[39;00m:\n\u001b[1;32m--> 118\u001b[0m         index \u001b[38;5;241m=\u001b[39m \u001b[43m_extract_index\u001b[49m\u001b[43m(\u001b[49m\u001b[43marrays\u001b[49m\u001b[43m)\u001b[49m\n\u001b[0;32m    119\u001b[0m     \u001b[38;5;28;01melse\u001b[39;00m:\n\u001b[0;32m    120\u001b[0m         index \u001b[38;5;241m=\u001b[39m ensure_index(index)\n",
      "File \u001b[1;32mC:\\ProgramData\\anaconda3\\lib\\site-packages\\pandas\\core\\internals\\construction.py:666\u001b[0m, in \u001b[0;36m_extract_index\u001b[1;34m(data)\u001b[0m\n\u001b[0;32m    664\u001b[0m lengths \u001b[38;5;241m=\u001b[39m \u001b[38;5;28mlist\u001b[39m(\u001b[38;5;28mset\u001b[39m(raw_lengths))\n\u001b[0;32m    665\u001b[0m \u001b[38;5;28;01mif\u001b[39;00m \u001b[38;5;28mlen\u001b[39m(lengths) \u001b[38;5;241m>\u001b[39m \u001b[38;5;241m1\u001b[39m:\n\u001b[1;32m--> 666\u001b[0m     \u001b[38;5;28;01mraise\u001b[39;00m \u001b[38;5;167;01mValueError\u001b[39;00m(\u001b[38;5;124m\"\u001b[39m\u001b[38;5;124mAll arrays must be of the same length\u001b[39m\u001b[38;5;124m\"\u001b[39m)\n\u001b[0;32m    668\u001b[0m \u001b[38;5;28;01mif\u001b[39;00m have_dicts:\n\u001b[0;32m    669\u001b[0m     \u001b[38;5;28;01mraise\u001b[39;00m \u001b[38;5;167;01mValueError\u001b[39;00m(\n\u001b[0;32m    670\u001b[0m         \u001b[38;5;124m\"\u001b[39m\u001b[38;5;124mMixing dicts with non-Series may lead to ambiguous ordering.\u001b[39m\u001b[38;5;124m\"\u001b[39m\n\u001b[0;32m    671\u001b[0m     )\n",
      "\u001b[1;31mValueError\u001b[0m: All arrays must be of the same length"
     ]
    }
   ],
   "source": [
    "ml_models = []\n",
    "ml_models.append(('KNN', KNeighborsClassifier()))\n",
    "ml_models.append(('LR', LogisticRegression()))\n",
    "ml_models.append(('SVC', SVC()))\n",
    "ml_models.append(('RF', RandomForestClassifier()))\n",
    "names = []\n",
    "accuracy = accuracy_score(y_test, y_pred)\n",
    "precision = precision_score(y_test, y_pred)\n",
    "recall = recall_score(y_test, y_pred)\n",
    "f1 = f1_score(y_test, y_pred)\n",
    "for name, model in ml_models:\n",
    "    model.fit(X_train, y_train)\n",
    "    y_pred = model.predict(X_test)\n",
    "    names.append(name)\n",
    "    accuracy_scores.append(accuracy)\n",
    "    precision_scores.append(precision)\n",
    "    recall_scores.append(recall)\n",
    "    f1_scores.append(f1)\n",
    "\n"
   ]
  },
  {
   "cell_type": "code",
   "execution_count": 104,
   "id": "7163b289",
   "metadata": {},
   "outputs": [],
   "source": [
    "ml_models = []\n",
    "ml_models.append(('KNN', KNeighborsClassifier()))\n",
    "ml_models.append(('LR', LogisticRegression()))\n",
    "ml_models.append(('SVC', SVC()))\n",
    "ml_models.append(('RF', RandomForestClassifier()))\n",
    "ml_models.append(('DecisionTree', DecisionTreeClassifier())) "
   ]
  },
  {
   "cell_type": "code",
   "execution_count": 105,
   "id": "f4c4bd69",
   "metadata": {},
   "outputs": [],
   "source": [
    "names = []\n",
    "accuracy_scores = []\n",
    "precision_scores = []\n",
    "recall_scores = []\n",
    "f1_scores = []"
   ]
  },
  {
   "cell_type": "code",
   "execution_count": 106,
   "id": "fd805fa6",
   "metadata": {},
   "outputs": [],
   "source": [
    "for name, model in ml_models:\n",
    "    model.fit(X_train, y_train)\n",
    "    y_pred = model.predict(X_test)"
   ]
  },
  {
   "cell_type": "markdown",
   "id": "1d42eab4",
   "metadata": {},
   "source": [
    "<font color='darkviolet' size='3'>**EVALUATING METRICS**</font>"
   ]
  },
  {
   "cell_type": "code",
   "execution_count": 107,
   "id": "fa7437e8",
   "metadata": {},
   "outputs": [],
   "source": [
    "accuracy = accuracy_score(y_test, y_pred)\n",
    "precision = precision_score(y_test, y_pred)\n",
    "recall = recall_score(y_test, y_pred)\n",
    "f1 = f1_score(y_test, y_pred)"
   ]
  },
  {
   "cell_type": "markdown",
   "id": "de0e97ef",
   "metadata": {},
   "source": [
    "<font color='darkviolet' size='3'>**APPEND SCORES TO LIST**</font>"
   ]
  },
  {
   "cell_type": "code",
   "execution_count": 108,
   "id": "f4a8c50d",
   "metadata": {},
   "outputs": [],
   "source": [
    "names.append(name)\n",
    "accuracy_scores.append(accuracy)\n",
    "precision_scores.append(precision)\n",
    "recall_scores.append(recall)\n",
    "f1_scores.append(f1)\n"
   ]
  },
  {
   "cell_type": "markdown",
   "id": "58d588b7",
   "metadata": {},
   "source": [
    "<font color='brown' size='3'>**DISPLAY BASE MODEL RESULTS**</font>"
   ]
  },
  {
   "cell_type": "code",
   "execution_count": null,
   "id": "36288d4e",
   "metadata": {},
   "outputs": [],
   "source": []
  },
  {
   "cell_type": "markdown",
   "id": "8f2e80d0",
   "metadata": {},
   "source": [
    "<font color='navy' size='4'>**PLOTTING THE MODEL RESULTS**</font>"
   ]
  },
  {
   "cell_type": "code",
   "execution_count": 127,
   "id": "66216fd7",
   "metadata": {},
   "outputs": [
    {
     "data": {
      "image/png": "[encoded data removed]",
      "text/plain": [
       "<Figure size 800x600 with 1 Axes>"
      ]
     },
     "metadata": {},
     "output_type": "display_data"
    }
   ],
   "source": [
    "plt.figure(figsize=(8, 6))\n",
    "plt.pie(tr_split['Score'], labels=tr_split['Name'], autopct='%1.4f%%', startangle=90)\n",
    "plt.title('Classifier Model Accuracy')\n",
    "plt.show()"
   ]
  },
  {
   "cell_type": "code",
   "execution_count": null,
   "id": "6e1424c3",
   "metadata": {},
   "outputs": [],
   "source": []
  },
  {
   "cell_type": "code",
   "execution_count": null,
   "id": "115924fa",
   "metadata": {},
   "outputs": [],
   "source": []
  },
  {
   "cell_type": "code",
   "execution_count": null,
   "id": "c6a710e1",
   "metadata": {},
   "outputs": [],
   "source": []
  },
  {
   "cell_type": "markdown",
   "id": "8731e7c7",
   "metadata": {},
   "source": [
    "<font color='green' size='5' face='verdana'>**   **</font>"
   ]
  },
  {
   "cell_type": "markdown",
   "id": "c861418f",
   "metadata": {},
   "source": [
    "<font color='navy' size='4'>**   **</font>"
   ]
  },
  {
   "cell_type": "markdown",
   "id": "82e93e5c",
   "metadata": {},
   "source": [
    "<font color='brown' size='3'>**   **</font>"
   ]
  },
  {
   "cell_type": "markdown",
   "id": "0c55b307",
   "metadata": {},
   "source": [
    "<font color='darkviolet' size='3'>**   **</font>"
   ]
  },
  {
   "cell_type": "markdown",
   "id": "7db80d08",
   "metadata": {},
   "source": [
    "<font color='lightblue' size='5' face='verdana'>**TAKE AWAY:**</font>\n"
   ]
  },
  {
   "cell_type": "markdown",
   "id": "1a457ea6",
   "metadata": {},
   "source": [
    "<font color='green' size='5' face='verdana'>**   **</font>"
   ]
  },
  {
   "cell_type": "markdown",
   "id": "ca6fbda5",
   "metadata": {},
   "source": [
    "<font color='green' size='5' face='verdana'>**   **</font>"
   ]
  },
  {
   "cell_type": "markdown",
   "id": "b77caadd",
   "metadata": {},
   "source": [
    "<font color='green' size='5' face='verdana'>**   **</font>"
   ]
  },
  {
   "cell_type": "markdown",
   "id": "f5223b9b",
   "metadata": {},
   "source": [
    "<font color='green' size='5' face='verdana'>**   **</font>"
   ]
  },
  {
   "cell_type": "markdown",
   "id": "efefdf93",
   "metadata": {},
   "source": [
    "<font color='green' size='5' face='verdana'>**   **</font>"
   ]
  },
  {
   "cell_type": "markdown",
   "id": "f454167b",
   "metadata": {},
   "source": [
    "<font color='green' size='5' face='verdana'>**   **</font>"
   ]
  },
  {
   "cell_type": "markdown",
   "id": "f594c7da",
   "metadata": {},
   "source": [
    "<font color='green' size='5' face='verdana'>**   **</font>"
   ]
  },
  {
   "cell_type": "markdown",
   "id": "f696faa0",
   "metadata": {},
   "source": [
    "<font color='green' size='5' face='verdana'>**   **</font>"
   ]
  },
  {
   "cell_type": "markdown",
   "id": "18639179",
   "metadata": {},
   "source": [
    "<font color='green' size='5' face='verdana'>**   **</font>"
   ]
  },
  {
   "cell_type": "markdown",
   "id": "6c8e889c",
   "metadata": {},
   "source": [
    "<font color='green' size='5' face='verdana'>**   **</font>"
   ]
  },
  {
   "cell_type": "markdown",
   "id": "744e209b",
   "metadata": {},
   "source": [
    "<font color='green' size='5' face='verdana'>**   **</font>"
   ]
  },
  {
   "cell_type": "markdown",
   "id": "1dc69bf2",
   "metadata": {},
   "source": [
    "<font color='green' size='5' face='verdana'>**   **</font>"
   ]
  },
  {
   "cell_type": "markdown",
   "id": "41286d62",
   "metadata": {},
   "source": [
    "<font color='green' size='5' face='verdana'>**   **</font>"
   ]
  },
  {
   "cell_type": "markdown",
   "id": "fe0b8873",
   "metadata": {},
   "source": [
    "<font color='green' size='5' face='verdana'>**   **</font>"
   ]
  },
  {
   "cell_type": "markdown",
   "id": "4e26e0ff",
   "metadata": {},
   "source": [
    "<font color='green' size='5' face='verdana'>**   **</font>"
   ]
  },
  {
   "cell_type": "markdown",
   "id": "805bed7a",
   "metadata": {},
   "source": [
    "<font color='green' size='5' face='verdana'>**   **</font>"
   ]
  },
  {
   "cell_type": "markdown",
   "id": "da7adfd0",
   "metadata": {},
   "source": [
    "<font color='green' size='5' face='verdana'>**   **</font>"
   ]
  },
  {
   "cell_type": "markdown",
   "id": "62f7e258",
   "metadata": {},
   "source": [
    "<font color='green' size='5' face='verdana'>**   **</font>"
   ]
  },
  {
   "cell_type": "markdown",
   "id": "97962676",
   "metadata": {},
   "source": [
    "<font color='green' size='5' face='verdana'>**   **</font>"
   ]
  },
  {
   "cell_type": "markdown",
   "id": "d7891935",
   "metadata": {},
   "source": [
    "<font color='green' size='5' face='verdana'>**   **</font>"
   ]
  },
  {
   "cell_type": "markdown",
   "id": "5b0ac3e5",
   "metadata": {},
   "source": [
    "<font color='green' size='5' face='verdana'>**   **</font>"
   ]
  },
  {
   "cell_type": "markdown",
   "id": "3a3b703f",
   "metadata": {},
   "source": [
    "<font color='green' size='5' face='verdana'>**   **</font>"
   ]
  },
  {
   "cell_type": "markdown",
   "id": "f1da2c0c",
   "metadata": {},
   "source": [
    "<font color='green' size='5' face='verdana'>**   **</font>"
   ]
  },
  {
   "cell_type": "markdown",
   "id": "214abb30",
   "metadata": {},
   "source": [
    "<font color='green' size='5' face='verdana'>**   **</font>"
   ]
  },
  {
   "cell_type": "markdown",
   "id": "097629d0",
   "metadata": {},
   "source": [
    "<font color='LIGHTBLUE' size='5' face='verdana'>**TAKE AWAY:**</font>"
   ]
  },
  {
   "cell_type": "markdown",
   "id": "26ad48dc",
   "metadata": {},
   "source": [
    "<font color='green' size='5' face='verdana'>**   **</font>"
   ]
  },
  {
   "cell_type": "code",
   "execution_count": null,
   "id": "05f2e1ca",
   "metadata": {},
   "outputs": [],
   "source": []
  },
  {
   "cell_type": "markdown",
   "id": "a9faee2c",
   "metadata": {},
   "source": [
    "Coastal regions tend to receive more precipitation than inland areas. Mountain ranges can also influence rainfall distribution.\n",
    "\n",
    "Factors like temperature, humidity, and wind patterns can all affect rainfall patterns."
   ]
  },
  {
   "cell_type": "code",
   "execution_count": null,
   "id": "241e2196",
   "metadata": {},
   "outputs": [],
   "source": []
  }
 ],
 "metadata": {
  "kernelspec": {
   "display_name": "Python 3 (ipykernel)",
   "language": "python",
   "name": "python3"
  },
  "language_info": {
   "codemirror_mode": {
    "name": "ipython",
    "version": 3
   },
   "file_extension": ".py",
   "mimetype": "text/x-python",
   "name": "python",
   "nbconvert_exporter": "python",
   "pygments_lexer": "ipython3",
   "version": "3.10.9"
  }
 },
 "nbformat": 4,
 "nbformat_minor": 5
}
